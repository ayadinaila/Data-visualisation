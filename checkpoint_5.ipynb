{
  "nbformat": 4,
  "nbformat_minor": 0,
  "metadata": {
    "colab": {
      "name": "checkpoint 5",
      "provenance": [],
      "collapsed_sections": [],
      "authorship_tag": "ABX9TyPq3NA/JZx7qEoYXd2rSmrL",
      "include_colab_link": true
    },
    "kernelspec": {
      "name": "python3",
      "display_name": "Python 3"
    },
    "language_info": {
      "name": "python"
    }
  },
  "cells": [
    {
      "cell_type": "markdown",
      "metadata": {
        "id": "view-in-github",
        "colab_type": "text"
      },
      "source": [
        "<a href=\"https://colab.research.google.com/github/ayadinaila/Data-visualisation/blob/main/checkpoint_5.ipynb\" target=\"_parent\"><img src=\"https://colab.research.google.com/assets/colab-badge.svg\" alt=\"Open In Colab\"/></a>"
      ]
    },
    {
      "cell_type": "code",
      "metadata": {
        "id": "sS58oHe5Jep2"
      },
      "source": [
        "#Importing libraries\n",
        "import numpy as np\n",
        "import pandas as pd \n",
        "import matplotlib.pyplot as plt\n",
        "import seaborn as sns \n",
        "from sklearn.model_selection import train_test_split\n",
        "from sklearn.linear_model import LinearRegression\n",
        "from sklearn.metrics import mean_squared_error\n",
        "from sklearn import metrics\n",
        "from sklearn.preprocessing import PolynomialFeatures \n",
        "from sklearn.metrics import confusion_matrix\n",
        "from sklearn.metrics import roc_auc_score\n",
        "from sklearn.linear_model import LogisticRegression\n"
      ],
      "execution_count": 428,
      "outputs": []
    },
    {
      "cell_type": "markdown",
      "metadata": {
        "id": "801QJ6DsN6pB"
      },
      "source": [
        "# ***importing the data***"
      ]
    },
    {
      "cell_type": "code",
      "metadata": {
        "colab": {
          "base_uri": "https://localhost:8080/",
          "height": 419
        },
        "id": "B2T3AGzYK-kx",
        "outputId": "048ccd9f-9868-4447-9d7b-62c2a67dcc27"
      },
      "source": [
        "path=pd.read_csv(\"/content/titanic-passengers (1).csv\",sep=';')\n",
        "path\n"
      ],
      "execution_count": 429,
      "outputs": [
        {
          "output_type": "execute_result",
          "data": {
            "text/html": [
              "<div>\n",
              "<style scoped>\n",
              "    .dataframe tbody tr th:only-of-type {\n",
              "        vertical-align: middle;\n",
              "    }\n",
              "\n",
              "    .dataframe tbody tr th {\n",
              "        vertical-align: top;\n",
              "    }\n",
              "\n",
              "    .dataframe thead th {\n",
              "        text-align: right;\n",
              "    }\n",
              "</style>\n",
              "<table border=\"1\" class=\"dataframe\">\n",
              "  <thead>\n",
              "    <tr style=\"text-align: right;\">\n",
              "      <th></th>\n",
              "      <th>PassengerId</th>\n",
              "      <th>Survived</th>\n",
              "      <th>Pclass</th>\n",
              "      <th>Name</th>\n",
              "      <th>Sex</th>\n",
              "      <th>Age</th>\n",
              "      <th>SibSp</th>\n",
              "      <th>Parch</th>\n",
              "      <th>Ticket</th>\n",
              "      <th>Fare</th>\n",
              "      <th>Cabin</th>\n",
              "      <th>Embarked</th>\n",
              "    </tr>\n",
              "  </thead>\n",
              "  <tbody>\n",
              "    <tr>\n",
              "      <th>0</th>\n",
              "      <td>343</td>\n",
              "      <td>No</td>\n",
              "      <td>2</td>\n",
              "      <td>Collander, Mr. Erik Gustaf</td>\n",
              "      <td>male</td>\n",
              "      <td>28.0</td>\n",
              "      <td>0</td>\n",
              "      <td>0</td>\n",
              "      <td>248740</td>\n",
              "      <td>13.0000</td>\n",
              "      <td>NaN</td>\n",
              "      <td>S</td>\n",
              "    </tr>\n",
              "    <tr>\n",
              "      <th>1</th>\n",
              "      <td>76</td>\n",
              "      <td>No</td>\n",
              "      <td>3</td>\n",
              "      <td>Moen, Mr. Sigurd Hansen</td>\n",
              "      <td>male</td>\n",
              "      <td>25.0</td>\n",
              "      <td>0</td>\n",
              "      <td>0</td>\n",
              "      <td>348123</td>\n",
              "      <td>7.6500</td>\n",
              "      <td>F G73</td>\n",
              "      <td>S</td>\n",
              "    </tr>\n",
              "    <tr>\n",
              "      <th>2</th>\n",
              "      <td>641</td>\n",
              "      <td>No</td>\n",
              "      <td>3</td>\n",
              "      <td>Jensen, Mr. Hans Peder</td>\n",
              "      <td>male</td>\n",
              "      <td>20.0</td>\n",
              "      <td>0</td>\n",
              "      <td>0</td>\n",
              "      <td>350050</td>\n",
              "      <td>7.8542</td>\n",
              "      <td>NaN</td>\n",
              "      <td>S</td>\n",
              "    </tr>\n",
              "    <tr>\n",
              "      <th>3</th>\n",
              "      <td>568</td>\n",
              "      <td>No</td>\n",
              "      <td>3</td>\n",
              "      <td>Palsson, Mrs. Nils (Alma Cornelia Berglund)</td>\n",
              "      <td>female</td>\n",
              "      <td>29.0</td>\n",
              "      <td>0</td>\n",
              "      <td>4</td>\n",
              "      <td>349909</td>\n",
              "      <td>21.0750</td>\n",
              "      <td>NaN</td>\n",
              "      <td>S</td>\n",
              "    </tr>\n",
              "    <tr>\n",
              "      <th>4</th>\n",
              "      <td>672</td>\n",
              "      <td>No</td>\n",
              "      <td>1</td>\n",
              "      <td>Davidson, Mr. Thornton</td>\n",
              "      <td>male</td>\n",
              "      <td>31.0</td>\n",
              "      <td>1</td>\n",
              "      <td>0</td>\n",
              "      <td>F.C. 12750</td>\n",
              "      <td>52.0000</td>\n",
              "      <td>B71</td>\n",
              "      <td>S</td>\n",
              "    </tr>\n",
              "    <tr>\n",
              "      <th>...</th>\n",
              "      <td>...</td>\n",
              "      <td>...</td>\n",
              "      <td>...</td>\n",
              "      <td>...</td>\n",
              "      <td>...</td>\n",
              "      <td>...</td>\n",
              "      <td>...</td>\n",
              "      <td>...</td>\n",
              "      <td>...</td>\n",
              "      <td>...</td>\n",
              "      <td>...</td>\n",
              "      <td>...</td>\n",
              "    </tr>\n",
              "    <tr>\n",
              "      <th>886</th>\n",
              "      <td>10</td>\n",
              "      <td>Yes</td>\n",
              "      <td>2</td>\n",
              "      <td>Nasser, Mrs. Nicholas (Adele Achem)</td>\n",
              "      <td>female</td>\n",
              "      <td>14.0</td>\n",
              "      <td>1</td>\n",
              "      <td>0</td>\n",
              "      <td>237736</td>\n",
              "      <td>30.0708</td>\n",
              "      <td>NaN</td>\n",
              "      <td>C</td>\n",
              "    </tr>\n",
              "    <tr>\n",
              "      <th>887</th>\n",
              "      <td>61</td>\n",
              "      <td>No</td>\n",
              "      <td>3</td>\n",
              "      <td>Sirayanian, Mr. Orsen</td>\n",
              "      <td>male</td>\n",
              "      <td>22.0</td>\n",
              "      <td>0</td>\n",
              "      <td>0</td>\n",
              "      <td>2669</td>\n",
              "      <td>7.2292</td>\n",
              "      <td>NaN</td>\n",
              "      <td>C</td>\n",
              "    </tr>\n",
              "    <tr>\n",
              "      <th>888</th>\n",
              "      <td>535</td>\n",
              "      <td>No</td>\n",
              "      <td>3</td>\n",
              "      <td>Cacic, Miss. Marija</td>\n",
              "      <td>female</td>\n",
              "      <td>30.0</td>\n",
              "      <td>0</td>\n",
              "      <td>0</td>\n",
              "      <td>315084</td>\n",
              "      <td>8.6625</td>\n",
              "      <td>NaN</td>\n",
              "      <td>S</td>\n",
              "    </tr>\n",
              "    <tr>\n",
              "      <th>889</th>\n",
              "      <td>102</td>\n",
              "      <td>No</td>\n",
              "      <td>3</td>\n",
              "      <td>Petroff, Mr. Pastcho (\"Pentcho\")</td>\n",
              "      <td>male</td>\n",
              "      <td>NaN</td>\n",
              "      <td>0</td>\n",
              "      <td>0</td>\n",
              "      <td>349215</td>\n",
              "      <td>7.8958</td>\n",
              "      <td>NaN</td>\n",
              "      <td>S</td>\n",
              "    </tr>\n",
              "    <tr>\n",
              "      <th>890</th>\n",
              "      <td>428</td>\n",
              "      <td>Yes</td>\n",
              "      <td>2</td>\n",
              "      <td>Phillips, Miss. Kate Florence (\"Mrs Kate Louis...</td>\n",
              "      <td>female</td>\n",
              "      <td>19.0</td>\n",
              "      <td>0</td>\n",
              "      <td>0</td>\n",
              "      <td>250655</td>\n",
              "      <td>26.0000</td>\n",
              "      <td>NaN</td>\n",
              "      <td>S</td>\n",
              "    </tr>\n",
              "  </tbody>\n",
              "</table>\n",
              "<p>891 rows × 12 columns</p>\n",
              "</div>"
            ],
            "text/plain": [
              "     PassengerId Survived  Pclass  ...     Fare  Cabin  Embarked\n",
              "0            343       No       2  ...  13.0000    NaN         S\n",
              "1             76       No       3  ...   7.6500  F G73         S\n",
              "2            641       No       3  ...   7.8542    NaN         S\n",
              "3            568       No       3  ...  21.0750    NaN         S\n",
              "4            672       No       1  ...  52.0000    B71         S\n",
              "..           ...      ...     ...  ...      ...    ...       ...\n",
              "886           10      Yes       2  ...  30.0708    NaN         C\n",
              "887           61       No       3  ...   7.2292    NaN         C\n",
              "888          535       No       3  ...   8.6625    NaN         S\n",
              "889          102       No       3  ...   7.8958    NaN         S\n",
              "890          428      Yes       2  ...  26.0000    NaN         S\n",
              "\n",
              "[891 rows x 12 columns]"
            ]
          },
          "metadata": {
            "tags": []
          },
          "execution_count": 429
        }
      ]
    },
    {
      "cell_type": "markdown",
      "metadata": {
        "id": "j_f1VvnHOjRH"
      },
      "source": [
        "# visualisation of the data "
      ]
    },
    {
      "cell_type": "code",
      "metadata": {
        "colab": {
          "base_uri": "https://localhost:8080/"
        },
        "id": "kJbdUBBGM2UG",
        "outputId": "522f0496-615e-48c4-dc8c-df7d15df5917"
      },
      "source": [
        "path.head"
      ],
      "execution_count": 430,
      "outputs": [
        {
          "output_type": "execute_result",
          "data": {
            "text/plain": [
              "<bound method NDFrame.head of      PassengerId Survived  Pclass  ...     Fare  Cabin  Embarked\n",
              "0            343       No       2  ...  13.0000    NaN         S\n",
              "1             76       No       3  ...   7.6500  F G73         S\n",
              "2            641       No       3  ...   7.8542    NaN         S\n",
              "3            568       No       3  ...  21.0750    NaN         S\n",
              "4            672       No       1  ...  52.0000    B71         S\n",
              "..           ...      ...     ...  ...      ...    ...       ...\n",
              "886           10      Yes       2  ...  30.0708    NaN         C\n",
              "887           61       No       3  ...   7.2292    NaN         C\n",
              "888          535       No       3  ...   8.6625    NaN         S\n",
              "889          102       No       3  ...   7.8958    NaN         S\n",
              "890          428      Yes       2  ...  26.0000    NaN         S\n",
              "\n",
              "[891 rows x 12 columns]>"
            ]
          },
          "metadata": {
            "tags": []
          },
          "execution_count": 430
        }
      ]
    },
    {
      "cell_type": "code",
      "metadata": {
        "colab": {
          "base_uri": "https://localhost:8080/"
        },
        "id": "5RGKCQskLhuw",
        "outputId": "3315b1be-4dc8-4d18-e44d-c0a8e319ad9f"
      },
      "source": [
        "path.info"
      ],
      "execution_count": 431,
      "outputs": [
        {
          "output_type": "execute_result",
          "data": {
            "text/plain": [
              "<bound method DataFrame.info of      PassengerId Survived  Pclass  ...     Fare  Cabin  Embarked\n",
              "0            343       No       2  ...  13.0000    NaN         S\n",
              "1             76       No       3  ...   7.6500  F G73         S\n",
              "2            641       No       3  ...   7.8542    NaN         S\n",
              "3            568       No       3  ...  21.0750    NaN         S\n",
              "4            672       No       1  ...  52.0000    B71         S\n",
              "..           ...      ...     ...  ...      ...    ...       ...\n",
              "886           10      Yes       2  ...  30.0708    NaN         C\n",
              "887           61       No       3  ...   7.2292    NaN         C\n",
              "888          535       No       3  ...   8.6625    NaN         S\n",
              "889          102       No       3  ...   7.8958    NaN         S\n",
              "890          428      Yes       2  ...  26.0000    NaN         S\n",
              "\n",
              "[891 rows x 12 columns]>"
            ]
          },
          "metadata": {
            "tags": []
          },
          "execution_count": 431
        }
      ]
    },
    {
      "cell_type": "code",
      "metadata": {
        "colab": {
          "base_uri": "https://localhost:8080/"
        },
        "id": "cXm1-kW4Mwme",
        "outputId": "ab128561-09da-41a1-fbf7-ec374a6bb3c9"
      },
      "source": [
        "path.columns"
      ],
      "execution_count": 432,
      "outputs": [
        {
          "output_type": "execute_result",
          "data": {
            "text/plain": [
              "Index(['PassengerId', 'Survived', 'Pclass', 'Name', 'Sex', 'Age', 'SibSp',\n",
              "       'Parch', 'Ticket', 'Fare', 'Cabin', 'Embarked'],\n",
              "      dtype='object')"
            ]
          },
          "metadata": {
            "tags": []
          },
          "execution_count": 432
        }
      ]
    },
    {
      "cell_type": "code",
      "metadata": {
        "colab": {
          "base_uri": "https://localhost:8080/"
        },
        "id": "9p-mPDXTK-nF",
        "outputId": "e7259e8b-39c2-40f8-886c-7ee1642b6776"
      },
      "source": [
        "path.dropna(how = \"any\",inplace= True)\n",
        "path.info()"
      ],
      "execution_count": 433,
      "outputs": [
        {
          "output_type": "stream",
          "text": [
            "<class 'pandas.core.frame.DataFrame'>\n",
            "Int64Index: 183 entries, 1 to 881\n",
            "Data columns (total 12 columns):\n",
            " #   Column       Non-Null Count  Dtype  \n",
            "---  ------       --------------  -----  \n",
            " 0   PassengerId  183 non-null    int64  \n",
            " 1   Survived     183 non-null    object \n",
            " 2   Pclass       183 non-null    int64  \n",
            " 3   Name         183 non-null    object \n",
            " 4   Sex          183 non-null    object \n",
            " 5   Age          183 non-null    float64\n",
            " 6   SibSp        183 non-null    int64  \n",
            " 7   Parch        183 non-null    int64  \n",
            " 8   Ticket       183 non-null    object \n",
            " 9   Fare         183 non-null    float64\n",
            " 10  Cabin        183 non-null    object \n",
            " 11  Embarked     183 non-null    object \n",
            "dtypes: float64(2), int64(4), object(6)\n",
            "memory usage: 18.6+ KB\n"
          ],
          "name": "stdout"
        }
      ]
    },
    {
      "cell_type": "code",
      "metadata": {
        "colab": {
          "base_uri": "https://localhost:8080/",
          "height": 419
        },
        "id": "70Q6kSloLU2Z",
        "outputId": "29930284-4f22-4459-ab0c-0dbe2f47d2c5"
      },
      "source": [
        "path.fillna(0)\n",
        "path"
      ],
      "execution_count": 434,
      "outputs": [
        {
          "output_type": "execute_result",
          "data": {
            "text/html": [
              "<div>\n",
              "<style scoped>\n",
              "    .dataframe tbody tr th:only-of-type {\n",
              "        vertical-align: middle;\n",
              "    }\n",
              "\n",
              "    .dataframe tbody tr th {\n",
              "        vertical-align: top;\n",
              "    }\n",
              "\n",
              "    .dataframe thead th {\n",
              "        text-align: right;\n",
              "    }\n",
              "</style>\n",
              "<table border=\"1\" class=\"dataframe\">\n",
              "  <thead>\n",
              "    <tr style=\"text-align: right;\">\n",
              "      <th></th>\n",
              "      <th>PassengerId</th>\n",
              "      <th>Survived</th>\n",
              "      <th>Pclass</th>\n",
              "      <th>Name</th>\n",
              "      <th>Sex</th>\n",
              "      <th>Age</th>\n",
              "      <th>SibSp</th>\n",
              "      <th>Parch</th>\n",
              "      <th>Ticket</th>\n",
              "      <th>Fare</th>\n",
              "      <th>Cabin</th>\n",
              "      <th>Embarked</th>\n",
              "    </tr>\n",
              "  </thead>\n",
              "  <tbody>\n",
              "    <tr>\n",
              "      <th>1</th>\n",
              "      <td>76</td>\n",
              "      <td>No</td>\n",
              "      <td>3</td>\n",
              "      <td>Moen, Mr. Sigurd Hansen</td>\n",
              "      <td>male</td>\n",
              "      <td>25.0</td>\n",
              "      <td>0</td>\n",
              "      <td>0</td>\n",
              "      <td>348123</td>\n",
              "      <td>7.6500</td>\n",
              "      <td>F G73</td>\n",
              "      <td>S</td>\n",
              "    </tr>\n",
              "    <tr>\n",
              "      <th>4</th>\n",
              "      <td>672</td>\n",
              "      <td>No</td>\n",
              "      <td>1</td>\n",
              "      <td>Davidson, Mr. Thornton</td>\n",
              "      <td>male</td>\n",
              "      <td>31.0</td>\n",
              "      <td>1</td>\n",
              "      <td>0</td>\n",
              "      <td>F.C. 12750</td>\n",
              "      <td>52.0000</td>\n",
              "      <td>B71</td>\n",
              "      <td>S</td>\n",
              "    </tr>\n",
              "    <tr>\n",
              "      <th>16</th>\n",
              "      <td>378</td>\n",
              "      <td>No</td>\n",
              "      <td>1</td>\n",
              "      <td>Widener, Mr. Harry Elkins</td>\n",
              "      <td>male</td>\n",
              "      <td>27.0</td>\n",
              "      <td>0</td>\n",
              "      <td>2</td>\n",
              "      <td>113503</td>\n",
              "      <td>211.5000</td>\n",
              "      <td>C82</td>\n",
              "      <td>C</td>\n",
              "    </tr>\n",
              "    <tr>\n",
              "      <th>19</th>\n",
              "      <td>225</td>\n",
              "      <td>Yes</td>\n",
              "      <td>1</td>\n",
              "      <td>Hoyt, Mr. Frederick Maxfield</td>\n",
              "      <td>male</td>\n",
              "      <td>38.0</td>\n",
              "      <td>1</td>\n",
              "      <td>0</td>\n",
              "      <td>19943</td>\n",
              "      <td>90.0000</td>\n",
              "      <td>C93</td>\n",
              "      <td>S</td>\n",
              "    </tr>\n",
              "    <tr>\n",
              "      <th>26</th>\n",
              "      <td>588</td>\n",
              "      <td>Yes</td>\n",
              "      <td>1</td>\n",
              "      <td>Frolicher-Stehli, Mr. Maxmillian</td>\n",
              "      <td>male</td>\n",
              "      <td>60.0</td>\n",
              "      <td>1</td>\n",
              "      <td>1</td>\n",
              "      <td>13567</td>\n",
              "      <td>79.2000</td>\n",
              "      <td>B41</td>\n",
              "      <td>C</td>\n",
              "    </tr>\n",
              "    <tr>\n",
              "      <th>...</th>\n",
              "      <td>...</td>\n",
              "      <td>...</td>\n",
              "      <td>...</td>\n",
              "      <td>...</td>\n",
              "      <td>...</td>\n",
              "      <td>...</td>\n",
              "      <td>...</td>\n",
              "      <td>...</td>\n",
              "      <td>...</td>\n",
              "      <td>...</td>\n",
              "      <td>...</td>\n",
              "      <td>...</td>\n",
              "    </tr>\n",
              "    <tr>\n",
              "      <th>862</th>\n",
              "      <td>619</td>\n",
              "      <td>Yes</td>\n",
              "      <td>2</td>\n",
              "      <td>Becker, Miss. Marion Louise</td>\n",
              "      <td>female</td>\n",
              "      <td>4.0</td>\n",
              "      <td>2</td>\n",
              "      <td>1</td>\n",
              "      <td>230136</td>\n",
              "      <td>39.0000</td>\n",
              "      <td>F4</td>\n",
              "      <td>S</td>\n",
              "    </tr>\n",
              "    <tr>\n",
              "      <th>863</th>\n",
              "      <td>858</td>\n",
              "      <td>Yes</td>\n",
              "      <td>1</td>\n",
              "      <td>Daly, Mr. Peter Denis</td>\n",
              "      <td>male</td>\n",
              "      <td>51.0</td>\n",
              "      <td>0</td>\n",
              "      <td>0</td>\n",
              "      <td>113055</td>\n",
              "      <td>26.5500</td>\n",
              "      <td>E17</td>\n",
              "      <td>S</td>\n",
              "    </tr>\n",
              "    <tr>\n",
              "      <th>865</th>\n",
              "      <td>196</td>\n",
              "      <td>Yes</td>\n",
              "      <td>1</td>\n",
              "      <td>Lurette, Miss. Elise</td>\n",
              "      <td>female</td>\n",
              "      <td>58.0</td>\n",
              "      <td>0</td>\n",
              "      <td>0</td>\n",
              "      <td>PC 17569</td>\n",
              "      <td>146.5208</td>\n",
              "      <td>B80</td>\n",
              "      <td>C</td>\n",
              "    </tr>\n",
              "    <tr>\n",
              "      <th>875</th>\n",
              "      <td>463</td>\n",
              "      <td>No</td>\n",
              "      <td>1</td>\n",
              "      <td>Gee, Mr. Arthur H</td>\n",
              "      <td>male</td>\n",
              "      <td>47.0</td>\n",
              "      <td>0</td>\n",
              "      <td>0</td>\n",
              "      <td>111320</td>\n",
              "      <td>38.5000</td>\n",
              "      <td>E63</td>\n",
              "      <td>S</td>\n",
              "    </tr>\n",
              "    <tr>\n",
              "      <th>881</th>\n",
              "      <td>699</td>\n",
              "      <td>No</td>\n",
              "      <td>1</td>\n",
              "      <td>Thayer, Mr. John Borland</td>\n",
              "      <td>male</td>\n",
              "      <td>49.0</td>\n",
              "      <td>1</td>\n",
              "      <td>1</td>\n",
              "      <td>17421</td>\n",
              "      <td>110.8833</td>\n",
              "      <td>C68</td>\n",
              "      <td>C</td>\n",
              "    </tr>\n",
              "  </tbody>\n",
              "</table>\n",
              "<p>183 rows × 12 columns</p>\n",
              "</div>"
            ],
            "text/plain": [
              "     PassengerId Survived  Pclass  ...      Fare  Cabin  Embarked\n",
              "1             76       No       3  ...    7.6500  F G73         S\n",
              "4            672       No       1  ...   52.0000    B71         S\n",
              "16           378       No       1  ...  211.5000    C82         C\n",
              "19           225      Yes       1  ...   90.0000    C93         S\n",
              "26           588      Yes       1  ...   79.2000    B41         C\n",
              "..           ...      ...     ...  ...       ...    ...       ...\n",
              "862          619      Yes       2  ...   39.0000     F4         S\n",
              "863          858      Yes       1  ...   26.5500    E17         S\n",
              "865          196      Yes       1  ...  146.5208    B80         C\n",
              "875          463       No       1  ...   38.5000    E63         S\n",
              "881          699       No       1  ...  110.8833    C68         C\n",
              "\n",
              "[183 rows x 12 columns]"
            ]
          },
          "metadata": {
            "tags": []
          },
          "execution_count": 434
        }
      ]
    },
    {
      "cell_type": "code",
      "metadata": {
        "colab": {
          "base_uri": "https://localhost:8080/"
        },
        "id": "J_6Uh1fXNQYM",
        "outputId": "c9ea5d5e-ed48-45e4-83c7-7547e5bf8472"
      },
      "source": [
        "path.dtypes\n"
      ],
      "execution_count": 435,
      "outputs": [
        {
          "output_type": "execute_result",
          "data": {
            "text/plain": [
              "PassengerId      int64\n",
              "Survived        object\n",
              "Pclass           int64\n",
              "Name            object\n",
              "Sex             object\n",
              "Age            float64\n",
              "SibSp            int64\n",
              "Parch            int64\n",
              "Ticket          object\n",
              "Fare           float64\n",
              "Cabin           object\n",
              "Embarked        object\n",
              "dtype: object"
            ]
          },
          "metadata": {
            "tags": []
          },
          "execution_count": 435
        }
      ]
    },
    {
      "cell_type": "code",
      "metadata": {
        "colab": {
          "base_uri": "https://localhost:8080/"
        },
        "id": "Jp7gLZOd3QAP",
        "outputId": "afcb438a-6818-46f3-8893-f67aa16b6de4"
      },
      "source": [
        "path.shape"
      ],
      "execution_count": 436,
      "outputs": [
        {
          "output_type": "execute_result",
          "data": {
            "text/plain": [
              "(183, 12)"
            ]
          },
          "metadata": {
            "tags": []
          },
          "execution_count": 436
        }
      ]
    },
    {
      "cell_type": "code",
      "metadata": {
        "colab": {
          "base_uri": "https://localhost:8080/"
        },
        "id": "LFcQ2DiY3q3o",
        "outputId": "95129236-07a9-4f3c-805e-d6451b7687f1"
      },
      "source": [
        "path.isnull().sum()"
      ],
      "execution_count": 437,
      "outputs": [
        {
          "output_type": "execute_result",
          "data": {
            "text/plain": [
              "PassengerId    0\n",
              "Survived       0\n",
              "Pclass         0\n",
              "Name           0\n",
              "Sex            0\n",
              "Age            0\n",
              "SibSp          0\n",
              "Parch          0\n",
              "Ticket         0\n",
              "Fare           0\n",
              "Cabin          0\n",
              "Embarked       0\n",
              "dtype: int64"
            ]
          },
          "metadata": {
            "tags": []
          },
          "execution_count": 437
        }
      ]
    },
    {
      "cell_type": "code",
      "metadata": {
        "colab": {
          "base_uri": "https://localhost:8080/"
        },
        "id": "YeR8rKqQ36qd",
        "outputId": "b1697dc0-d890-418e-bab9-3f5f2433a3d5"
      },
      "source": [
        "path.isnull().sum().sum()"
      ],
      "execution_count": 438,
      "outputs": [
        {
          "output_type": "execute_result",
          "data": {
            "text/plain": [
              "0"
            ]
          },
          "metadata": {
            "tags": []
          },
          "execution_count": 438
        }
      ]
    },
    {
      "cell_type": "code",
      "metadata": {
        "colab": {
          "base_uri": "https://localhost:8080/"
        },
        "id": "7rf82diVNXAq",
        "outputId": "68c8965b-af2a-4645-8cfc-329cbb44cdd3"
      },
      "source": [
        "path.Survived"
      ],
      "execution_count": 439,
      "outputs": [
        {
          "output_type": "execute_result",
          "data": {
            "text/plain": [
              "1       No\n",
              "4       No\n",
              "16      No\n",
              "19     Yes\n",
              "26     Yes\n",
              "      ... \n",
              "862    Yes\n",
              "863    Yes\n",
              "865    Yes\n",
              "875     No\n",
              "881     No\n",
              "Name: Survived, Length: 183, dtype: object"
            ]
          },
          "metadata": {
            "tags": []
          },
          "execution_count": 439
        }
      ]
    },
    {
      "cell_type": "code",
      "metadata": {
        "colab": {
          "base_uri": "https://localhost:8080/"
        },
        "id": "W31uaDJz43ew",
        "outputId": "edf0e4cf-2b25-40e6-c03e-0cc6cc9679e5"
      },
      "source": [
        "path[\"Survived\"].value_counts()\n"
      ],
      "execution_count": 440,
      "outputs": [
        {
          "output_type": "execute_result",
          "data": {
            "text/plain": [
              "Yes    123\n",
              "No      60\n",
              "Name: Survived, dtype: int64"
            ]
          },
          "metadata": {
            "tags": []
          },
          "execution_count": 440
        }
      ]
    },
    {
      "cell_type": "code",
      "metadata": {
        "colab": {
          "base_uri": "https://localhost:8080/",
          "height": 337
        },
        "id": "x7lZvUGX4Vmw",
        "outputId": "4816d5bf-dc74-4f66-8be9-5fc6a92f8367"
      },
      "source": [
        "corr = path.corr()\n",
        "sns.heatmap(corr, annot = True)"
      ],
      "execution_count": 441,
      "outputs": [
        {
          "output_type": "execute_result",
          "data": {
            "text/plain": [
              "<matplotlib.axes._subplots.AxesSubplot at 0x7f06f25b2d10>"
            ]
          },
          "metadata": {
            "tags": []
          },
          "execution_count": 441
        },
        {
          "output_type": "display_data",
          "data": {
            "image/png": "[encoded data removed]",
            "text/plain": [
              "<Figure size 432x288 with 2 Axes>"
            ]
          },
          "metadata": {
            "tags": [],
            "needs_background": "light"
          }
        }
      ]
    },
    {
      "cell_type": "markdown",
      "metadata": {
        "id": "fAo0QcYTO8jK"
      },
      "source": [
        "***apply logistic regression***"
      ]
    },
    {
      "cell_type": "code",
      "metadata": {
        "colab": {
          "base_uri": "https://localhost:8080/",
          "height": 514
        },
        "id": "HRU3ti1gO2pC",
        "outputId": "24195240-2504-4344-89db-43be0b4b2e93"
      },
      "source": [
        "#preparing data for logistic regression\n",
        "path[\"Survived\"]=path[\"Survived\"].map({\"Yes\": 1, \"No\": 0})   #convert admitted variable into numerical\n",
        "path['Sex'].replace([\"male\",\"female\"], [1,0], inplace=True)\n",
        "path.head(15)"
      ],
      "execution_count": 442,
      "outputs": [
        {
          "output_type": "execute_result",
          "data": {
            "text/html": [
              "<div>\n",
              "<style scoped>\n",
              "    .dataframe tbody tr th:only-of-type {\n",
              "        vertical-align: middle;\n",
              "    }\n",
              "\n",
              "    .dataframe tbody tr th {\n",
              "        vertical-align: top;\n",
              "    }\n",
              "\n",
              "    .dataframe thead th {\n",
              "        text-align: right;\n",
              "    }\n",
              "</style>\n",
              "<table border=\"1\" class=\"dataframe\">\n",
              "  <thead>\n",
              "    <tr style=\"text-align: right;\">\n",
              "      <th></th>\n",
              "      <th>PassengerId</th>\n",
              "      <th>Survived</th>\n",
              "      <th>Pclass</th>\n",
              "      <th>Name</th>\n",
              "      <th>Sex</th>\n",
              "      <th>Age</th>\n",
              "      <th>SibSp</th>\n",
              "      <th>Parch</th>\n",
              "      <th>Ticket</th>\n",
              "      <th>Fare</th>\n",
              "      <th>Cabin</th>\n",
              "      <th>Embarked</th>\n",
              "    </tr>\n",
              "  </thead>\n",
              "  <tbody>\n",
              "    <tr>\n",
              "      <th>1</th>\n",
              "      <td>76</td>\n",
              "      <td>0</td>\n",
              "      <td>3</td>\n",
              "      <td>Moen, Mr. Sigurd Hansen</td>\n",
              "      <td>1</td>\n",
              "      <td>25.0</td>\n",
              "      <td>0</td>\n",
              "      <td>0</td>\n",
              "      <td>348123</td>\n",
              "      <td>7.6500</td>\n",
              "      <td>F G73</td>\n",
              "      <td>S</td>\n",
              "    </tr>\n",
              "    <tr>\n",
              "      <th>4</th>\n",
              "      <td>672</td>\n",
              "      <td>0</td>\n",
              "      <td>1</td>\n",
              "      <td>Davidson, Mr. Thornton</td>\n",
              "      <td>1</td>\n",
              "      <td>31.0</td>\n",
              "      <td>1</td>\n",
              "      <td>0</td>\n",
              "      <td>F.C. 12750</td>\n",
              "      <td>52.0000</td>\n",
              "      <td>B71</td>\n",
              "      <td>S</td>\n",
              "    </tr>\n",
              "    <tr>\n",
              "      <th>16</th>\n",
              "      <td>378</td>\n",
              "      <td>0</td>\n",
              "      <td>1</td>\n",
              "      <td>Widener, Mr. Harry Elkins</td>\n",
              "      <td>1</td>\n",
              "      <td>27.0</td>\n",
              "      <td>0</td>\n",
              "      <td>2</td>\n",
              "      <td>113503</td>\n",
              "      <td>211.5000</td>\n",
              "      <td>C82</td>\n",
              "      <td>C</td>\n",
              "    </tr>\n",
              "    <tr>\n",
              "      <th>19</th>\n",
              "      <td>225</td>\n",
              "      <td>1</td>\n",
              "      <td>1</td>\n",
              "      <td>Hoyt, Mr. Frederick Maxfield</td>\n",
              "      <td>1</td>\n",
              "      <td>38.0</td>\n",
              "      <td>1</td>\n",
              "      <td>0</td>\n",
              "      <td>19943</td>\n",
              "      <td>90.0000</td>\n",
              "      <td>C93</td>\n",
              "      <td>S</td>\n",
              "    </tr>\n",
              "    <tr>\n",
              "      <th>26</th>\n",
              "      <td>588</td>\n",
              "      <td>1</td>\n",
              "      <td>1</td>\n",
              "      <td>Frolicher-Stehli, Mr. Maxmillian</td>\n",
              "      <td>1</td>\n",
              "      <td>60.0</td>\n",
              "      <td>1</td>\n",
              "      <td>1</td>\n",
              "      <td>13567</td>\n",
              "      <td>79.2000</td>\n",
              "      <td>B41</td>\n",
              "      <td>C</td>\n",
              "    </tr>\n",
              "    <tr>\n",
              "      <th>33</th>\n",
              "      <td>537</td>\n",
              "      <td>0</td>\n",
              "      <td>1</td>\n",
              "      <td>Butt, Major. Archibald Willingham</td>\n",
              "      <td>1</td>\n",
              "      <td>45.0</td>\n",
              "      <td>0</td>\n",
              "      <td>0</td>\n",
              "      <td>113050</td>\n",
              "      <td>26.5500</td>\n",
              "      <td>B38</td>\n",
              "      <td>S</td>\n",
              "    </tr>\n",
              "    <tr>\n",
              "      <th>37</th>\n",
              "      <td>431</td>\n",
              "      <td>1</td>\n",
              "      <td>1</td>\n",
              "      <td>Bjornstrom-Steffansson, Mr. Mauritz Hakan</td>\n",
              "      <td>1</td>\n",
              "      <td>28.0</td>\n",
              "      <td>0</td>\n",
              "      <td>0</td>\n",
              "      <td>110564</td>\n",
              "      <td>26.5500</td>\n",
              "      <td>C52</td>\n",
              "      <td>S</td>\n",
              "    </tr>\n",
              "    <tr>\n",
              "      <th>59</th>\n",
              "      <td>453</td>\n",
              "      <td>0</td>\n",
              "      <td>1</td>\n",
              "      <td>Foreman, Mr. Benjamin Laventall</td>\n",
              "      <td>1</td>\n",
              "      <td>30.0</td>\n",
              "      <td>0</td>\n",
              "      <td>0</td>\n",
              "      <td>113051</td>\n",
              "      <td>27.7500</td>\n",
              "      <td>C111</td>\n",
              "      <td>C</td>\n",
              "    </tr>\n",
              "    <tr>\n",
              "      <th>60</th>\n",
              "      <td>152</td>\n",
              "      <td>1</td>\n",
              "      <td>1</td>\n",
              "      <td>Pears, Mrs. Thomas (Edith Wearne)</td>\n",
              "      <td>0</td>\n",
              "      <td>22.0</td>\n",
              "      <td>1</td>\n",
              "      <td>0</td>\n",
              "      <td>113776</td>\n",
              "      <td>66.6000</td>\n",
              "      <td>C2</td>\n",
              "      <td>S</td>\n",
              "    </tr>\n",
              "    <tr>\n",
              "      <th>63</th>\n",
              "      <td>718</td>\n",
              "      <td>1</td>\n",
              "      <td>2</td>\n",
              "      <td>Troutt, Miss. Edwina Celia \"Winnie\"</td>\n",
              "      <td>0</td>\n",
              "      <td>27.0</td>\n",
              "      <td>0</td>\n",
              "      <td>0</td>\n",
              "      <td>34218</td>\n",
              "      <td>10.5000</td>\n",
              "      <td>E101</td>\n",
              "      <td>S</td>\n",
              "    </tr>\n",
              "    <tr>\n",
              "      <th>69</th>\n",
              "      <td>863</td>\n",
              "      <td>1</td>\n",
              "      <td>1</td>\n",
              "      <td>Swift, Mrs. Frederick Joel (Margaret Welles Ba...</td>\n",
              "      <td>0</td>\n",
              "      <td>48.0</td>\n",
              "      <td>0</td>\n",
              "      <td>0</td>\n",
              "      <td>17466</td>\n",
              "      <td>25.9292</td>\n",
              "      <td>D17</td>\n",
              "      <td>S</td>\n",
              "    </tr>\n",
              "    <tr>\n",
              "      <th>87</th>\n",
              "      <td>541</td>\n",
              "      <td>1</td>\n",
              "      <td>1</td>\n",
              "      <td>Crosby, Miss. Harriet R</td>\n",
              "      <td>0</td>\n",
              "      <td>36.0</td>\n",
              "      <td>0</td>\n",
              "      <td>2</td>\n",
              "      <td>WE/P 5735</td>\n",
              "      <td>71.0000</td>\n",
              "      <td>B22</td>\n",
              "      <td>S</td>\n",
              "    </tr>\n",
              "    <tr>\n",
              "      <th>91</th>\n",
              "      <td>780</td>\n",
              "      <td>1</td>\n",
              "      <td>1</td>\n",
              "      <td>Robert, Mrs. Edward Scott (Elisabeth Walton Mc...</td>\n",
              "      <td>0</td>\n",
              "      <td>43.0</td>\n",
              "      <td>0</td>\n",
              "      <td>1</td>\n",
              "      <td>24160</td>\n",
              "      <td>211.3375</td>\n",
              "      <td>B3</td>\n",
              "      <td>S</td>\n",
              "    </tr>\n",
              "    <tr>\n",
              "      <th>92</th>\n",
              "      <td>717</td>\n",
              "      <td>1</td>\n",
              "      <td>1</td>\n",
              "      <td>Endres, Miss. Caroline Louise</td>\n",
              "      <td>0</td>\n",
              "      <td>38.0</td>\n",
              "      <td>0</td>\n",
              "      <td>0</td>\n",
              "      <td>PC 17757</td>\n",
              "      <td>227.5250</td>\n",
              "      <td>C45</td>\n",
              "      <td>C</td>\n",
              "    </tr>\n",
              "    <tr>\n",
              "      <th>110</th>\n",
              "      <td>210</td>\n",
              "      <td>1</td>\n",
              "      <td>1</td>\n",
              "      <td>Blank, Mr. Henry</td>\n",
              "      <td>1</td>\n",
              "      <td>40.0</td>\n",
              "      <td>0</td>\n",
              "      <td>0</td>\n",
              "      <td>112277</td>\n",
              "      <td>31.0000</td>\n",
              "      <td>A31</td>\n",
              "      <td>C</td>\n",
              "    </tr>\n",
              "  </tbody>\n",
              "</table>\n",
              "</div>"
            ],
            "text/plain": [
              "     PassengerId  Survived  Pclass  ...      Fare  Cabin  Embarked\n",
              "1             76         0       3  ...    7.6500  F G73         S\n",
              "4            672         0       1  ...   52.0000    B71         S\n",
              "16           378         0       1  ...  211.5000    C82         C\n",
              "19           225         1       1  ...   90.0000    C93         S\n",
              "26           588         1       1  ...   79.2000    B41         C\n",
              "33           537         0       1  ...   26.5500    B38         S\n",
              "37           431         1       1  ...   26.5500    C52         S\n",
              "59           453         0       1  ...   27.7500   C111         C\n",
              "60           152         1       1  ...   66.6000     C2         S\n",
              "63           718         1       2  ...   10.5000   E101         S\n",
              "69           863         1       1  ...   25.9292    D17         S\n",
              "87           541         1       1  ...   71.0000    B22         S\n",
              "91           780         1       1  ...  211.3375     B3         S\n",
              "92           717         1       1  ...  227.5250    C45         C\n",
              "110          210         1       1  ...   31.0000    A31         C\n",
              "\n",
              "[15 rows x 12 columns]"
            ]
          },
          "metadata": {
            "tags": []
          },
          "execution_count": 442
        }
      ]
    },
    {
      "cell_type": "code",
      "metadata": {
        "colab": {
          "base_uri": "https://localhost:8080/"
        },
        "id": "LCMP8Wl9P6w6",
        "outputId": "91612239-7795-4620-8e7f-2b786150db28"
      },
      "source": [
        "x = path[['PassengerId', 'Sex','Pclass']].values\n",
        "y = path[\"Survived\"]\n",
        "\n",
        "x_train,x_test,y_train,y_test = train_test_split(x,y,test_size=0.25,random_state=20)  #splitting data with test size of 25%\n",
        "\n",
        "logreg = LogisticRegression()   #build our logistic model\n",
        "logreg.fit(x_train, y_train)  #fitting training data\n",
        "y_pred  = logreg.predict(x_test)  #testing model’s performance\n",
        "print(\"Accuracy={:.2f}\".format(logreg.score(x_test, y_test)))\n"
      ],
      "execution_count": 443,
      "outputs": [
        {
          "output_type": "stream",
          "text": [
            "Accuracy=0.70\n"
          ],
          "name": "stdout"
        }
      ]
    },
    {
      "cell_type": "code",
      "metadata": {
        "id": "sKg4K-wom7mW"
      },
      "source": [
        "from sklearn.preprocessing import StandardScaler\n",
        "scaler = StandardScaler()\n",
        "inp_df = scaler.fit_transform(x)\n",
        "X_train, X_test, y_train, y_test = train_test_split(x, y, test_size=0.2, random_state=42)"
      ],
      "execution_count": 444,
      "outputs": []
    },
    {
      "cell_type": "code",
      "metadata": {
        "colab": {
          "base_uri": "https://localhost:8080/"
        },
        "id": "F98qEsCqIpOX",
        "outputId": "2975f50a-27f3-478c-87e9-ee5437ce439a"
      },
      "source": [
        "model = LogisticRegression()\n",
        "model.fit(X_train,y_train)\n",
        "pred = model.predict(X_test)\n",
        "pred"
      ],
      "execution_count": 445,
      "outputs": [
        {
          "output_type": "execute_result",
          "data": {
            "text/plain": [
              "array([0, 1, 1, 0, 1, 0, 0, 0, 1, 1, 1, 0, 1, 1, 1, 0, 0, 1, 1, 1, 1, 1,\n",
              "       1, 0, 1, 1, 1, 1, 1, 1, 0, 1, 1, 0, 0, 1, 0])"
            ]
          },
          "metadata": {
            "tags": []
          },
          "execution_count": 445
        }
      ]
    },
    {
      "cell_type": "markdown",
      "metadata": {
        "id": "ARCfqqpOObtT"
      },
      "source": [
        "# ***Use confusion matrix to validate the model.***"
      ]
    },
    {
      "cell_type": "code",
      "metadata": {
        "colab": {
          "base_uri": "https://localhost:8080/",
          "height": 296
        },
        "id": "OEKTEsr27FwU",
        "outputId": "7211b7af-9f46-4606-913d-f1e0531aabef"
      },
      "source": [
        "confusion_matrix = pd.crosstab(y_test, pred, rownames=['Predicted'], colnames=['Actual'])\n",
        "sns.heatmap(confusion_matrix, annot=True)\n"
      ],
      "execution_count": 446,
      "outputs": [
        {
          "output_type": "execute_result",
          "data": {
            "text/plain": [
              "<matplotlib.axes._subplots.AxesSubplot at 0x7f06f248b8d0>"
            ]
          },
          "metadata": {
            "tags": []
          },
          "execution_count": 446
        },
        {
          "output_type": "display_data",
          "data": {
            "image/png": "[encoded data removed]",
            "text/plain": [
              "<Figure size 432x288 with 2 Axes>"
            ]
          },
          "metadata": {
            "tags": [],
            "needs_background": "light"
          }
        }
      ]
    },
    {
      "cell_type": "markdown",
      "metadata": {
        "id": "f6-6e67fO7H0"
      },
      "source": [
        "# ***Another validation matrix for classification is ROC / AUC***"
      ]
    },
    {
      "cell_type": "code",
      "metadata": {
        "colab": {
          "base_uri": "https://localhost:8080/"
        },
        "id": "C6qlBzTgI1JU",
        "outputId": "d38f1719-a411-4625-ec56-c150b5a4e833"
      },
      "source": [
        "from sklearn.metrics import classification_report\n",
        "print(classification_report(y_test, pred))"
      ],
      "execution_count": 447,
      "outputs": [
        {
          "output_type": "stream",
          "text": [
            "              precision    recall  f1-score   support\n",
            "\n",
            "           0       0.46      0.86      0.60         7\n",
            "           1       0.96      0.77      0.85        30\n",
            "\n",
            "    accuracy                           0.78        37\n",
            "   macro avg       0.71      0.81      0.73        37\n",
            "weighted avg       0.86      0.78      0.80        37\n",
            "\n"
          ],
          "name": "stdout"
        }
      ]
    }
  ]
}